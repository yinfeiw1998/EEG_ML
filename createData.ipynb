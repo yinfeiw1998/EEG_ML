{
 "cells": [
  {
   "cell_type": "code",
   "execution_count": 1,
   "metadata": {},
   "outputs": [],
   "source": [
    "import features\n",
    "file_name = 'features_startFrom_3minutes(without ica)'"
   ]
  },
  {
   "cell_type": "code",
   "execution_count": 2,
   "metadata": {},
   "outputs": [
    {
     "ename": "NameError",
     "evalue": "name 'learned_data4' is not defined",
     "output_type": "error",
     "traceback": [
      "\u001b[0;31m---------------------------------------------------------------------------\u001b[0m",
      "\u001b[0;31mNameError\u001b[0m                                 Traceback (most recent call last)",
      "\u001b[0;32m<ipython-input-2-9e9e2ef0b11f>\u001b[0m in \u001b[0;36m<module>\u001b[0;34m\u001b[0m\n\u001b[1;32m     40\u001b[0m \u001b[0ms\u001b[0m \u001b[0;34m=\u001b[0m \u001b[0;36m240000\u001b[0m \u001b[0;34m+\u001b[0m \u001b[0;36m405\u001b[0m\u001b[0;34m*\u001b[0m\u001b[0;36m500\u001b[0m\u001b[0;34m\u001b[0m\u001b[0;34m\u001b[0m\u001b[0m\n\u001b[1;32m     41\u001b[0m \u001b[0;32mfor\u001b[0m \u001b[0mi\u001b[0m \u001b[0;32min\u001b[0m \u001b[0mrange\u001b[0m\u001b[0;34m(\u001b[0m\u001b[0;36m720\u001b[0m\u001b[0;34m)\u001b[0m\u001b[0;34m:\u001b[0m\u001b[0;34m\u001b[0m\u001b[0;34m\u001b[0m\u001b[0m\n\u001b[0;32m---> 42\u001b[0;31m     \u001b[0mlearned_data4\u001b[0m\u001b[0;34m.\u001b[0m\u001b[0mextract_features\u001b[0m\u001b[0;34m(\u001b[0m\u001b[0;36m208\u001b[0m\u001b[0;34m,\u001b[0m \u001b[0ms\u001b[0m\u001b[0;34m,\u001b[0m \u001b[0ms\u001b[0m\u001b[0;34m+\u001b[0m\u001b[0;36m1000\u001b[0m\u001b[0;34m,\u001b[0m \u001b[0mfile_name\u001b[0m\u001b[0;34m)\u001b[0m\u001b[0;34m\u001b[0m\u001b[0;34m\u001b[0m\u001b[0m\n\u001b[0m\u001b[1;32m     43\u001b[0m     \u001b[0mprint\u001b[0m\u001b[0;34m(\u001b[0m\u001b[0;34m\"208\"\u001b[0m\u001b[0;34m,\u001b[0m \u001b[0;34m\" finished \"\u001b[0m\u001b[0;34m,\u001b[0m \u001b[0mi\u001b[0m\u001b[0;34m)\u001b[0m\u001b[0;34m\u001b[0m\u001b[0;34m\u001b[0m\u001b[0m\n\u001b[1;32m     44\u001b[0m     \u001b[0ms\u001b[0m \u001b[0;34m+=\u001b[0m \u001b[0;36m500\u001b[0m\u001b[0;34m\u001b[0m\u001b[0;34m\u001b[0m\u001b[0m\n",
      "\u001b[0;31mNameError\u001b[0m: name 'learned_data4' is not defined"
     ]
    }
   ],
   "source": [
    "# learned_data1 = features.features('101/101')\n",
    "# learned_data2 = features.features('102/102')\n",
    "# learned_data3 = features.features('153/153')\n",
    "# learned_data4 = features.features('208/208')\n",
    "# learned_data5 = features.features('744/744')\n",
    "# learned_data6 = features.features('670/670')\n",
    "# learned_data7 = features.features('610/610')\n",
    "# learned_data8 = features.features('603/603')\n",
    "\n",
    "# s = 0\n",
    "# for i in range(1000):\n",
    "#     learned_data6.extract_features(670, s, s+1000, file_name)\n",
    "#     print(\"670\", \" finished \", i)\n",
    "#     s += 500\n",
    "    \n",
    "# s = 0\n",
    "# for i in range(1000):\n",
    "#     learned_data8.extract_features(603, s, s+1000, file_name)\n",
    "#     print(\"603\", \" finished \", i)\n",
    "#     s += 500\n",
    "\n",
    "# s = 240000\n",
    "# for i in range(1000):\n",
    "#     learned_data1.extract_features(101, s, s+1000, file_name)\n",
    "#     print(\"101\", \" finished \", i)\n",
    "#     s += 1000\n",
    "    \n",
    "# s = 240000\n",
    "# for i in range(720):\n",
    "#     learned_data2.extract_features(102, s, s+1000, file_name)\n",
    "#     print(\"102\", \" finished \", i)\n",
    "#     s += 1000\n",
    "    \n",
    "# s = 240000\n",
    "# for i in range(720):\n",
    "#     learned_data3.extract_features(153, s, s+1000, file_name)\n",
    "#     print(\"153\", \" finished \", i)\n",
    "#     s += 500\n",
    "\n",
    "s = 240000 + 405*500\n",
    "for i in range(720):\n",
    "    learned_data4.extract_features(208, s, s+1000, file_name)\n",
    "    print(\"208\", \" finished \", i)\n",
    "    s += 500"
   ]
  },
  {
   "cell_type": "code",
   "execution_count": null,
   "metadata": {},
   "outputs": [],
   "source": [
    "# learned_data5 = features.features('244/244')\n",
    "# s = 240000 + 720 * 1000\n",
    "# for i in range(280):\n",
    "#     learned_data5.extract_features(244, s, s+1000, file_name)\n",
    "#     print(\"744\", \" finished \", i)\n",
    "#     s += 1000\n",
    "\n",
    "# learned_data6 = features.features('744/744')\n",
    "# s = 240000 + 720 * 1000\n",
    "# for i in range(280):\n",
    "#     learned_data6.extract_features(744, s, s+1000, file_name)\n",
    "#     print(\"244\", \" finished \", i)\n",
    "#     s += 1000\n",
    "\n",
    "# learned_data7 = features.features('245/245')\n",
    "# s = 240000 + 720 * 1000\n",
    "# for i in range(280):\n",
    "#     learned_data7.extract_features(245, s, s+1000, file_name)\n",
    "#     print(\"245\", \" finished \", i)\n",
    "#     s += 1000\n",
    "\n",
    "# learned_data8 = features.features('340/340')\n",
    "# s = 240000 + 720 * 1000\n",
    "# for i in range(280):\n",
    "#     learned_data8.extract_features(340, s, s+1000, file_name)\n",
    "#     print(\"340\", \" finished \", i)\n",
    "#     s += 1000\n",
    "\n",
    "# learned_data9 = features.features('399/399')\n",
    "# s = 240000 + 720 * 1000\n",
    "# for i in range(280):\n",
    "#     learned_data9.extract_features(399, s, s+1000, file_name)\n",
    "#     print(\"399\", \" finished \", i)\n",
    "#     s += 1000\n",
    "\n",
    "# learned_data10 = features.features('424/424')\n",
    "# s = 240000 + 720 * 1000\n",
    "# for i in range(280):\n",
    "#     learned_data10.extract_features(424, s, s+1000, file_name)\n",
    "#     print(\"424\", \" finished \", i)\n",
    "#     s += 1000\n",
    "\n",
    "\n",
    "# learned_data12 = features.features('457/457')\n",
    "# s = 240000 + 720 * 1000\n",
    "# for i in range(280):\n",
    "#     learned_data12.extract_features(457, s, s+1000, file_name)\n",
    "#     print(\"457\", \" finished \", i)\n",
    "#     s += 1000\n",
    "\n",
    "# learned_data13 = features.features('488/488')\n",
    "# s = 240000 + 720 * 1000\n",
    "# for i in range(280):\n",
    "#     learned_data13.extract_features(488, s, s+1000, file_name)\n",
    "#     print(\"488\", \" finished \", i)\n",
    "#     s += 1000\n",
    "\n",
    "# learned_data14 = features.features('495/495')\n",
    "# s = 240000 + 720 * 1000\n",
    "# for i in range(280):\n",
    "#     learned_data14.extract_features(495, s, s+1000, file_name)\n",
    "#     print(\"495\", \" finished \", i)\n",
    "#     s += 1000\n",
    "\n",
    "# learned_data15 = features.features('510/510')\n",
    "# s = 240000 + 720 * 1000\n",
    "# for i in range(280):\n",
    "#     learned_data15.extract_features(510, s, s+1000, file_name)\n",
    "#     print(\"510\", \" finished \", i)\n",
    "#     s += 1000\n",
    "    \n",
    "# learned_data16 = features.features('556_1/556_1')\n",
    "# s = 240000 + 720 * 1000\n",
    "# for i in range(280):\n",
    "#     learned_data16.extract_features(5561, s, s+1000, file_name)\n",
    "#     print(\"556_1\", \" finished \", i)\n",
    "#     s += 1000\n",
    "    \n",
    "# learned_data17 = features.features('563/563')\n",
    "# s = 240000 + 720 * 1000\n",
    "# for i in range(280):\n",
    "#     learned_data17.extract_features(563, s, s+1000, file_name)\n",
    "#     print(\"563\", \" finished \", i)\n",
    "#     s += 1000\n",
    "    \n",
    "# learned_data18 = features.features('603/603')\n",
    "# s = 240000 + 720 * 1000\n",
    "# for i in range(280):\n",
    "#     learned_data18.extract_features(603, s, s+1000, file_name)\n",
    "#     print(\"603\", \" finished \", i)\n",
    "#     s += 1000\n",
    "    \n",
    "                                          # learned_data19 = features.features('610/610')\n",
    "# s = 240000 + 720 * 1000\n",
    "# for i in range(280):\n",
    "#     learned_data19.extract_features(610, s, s+1000, file_name)\n",
    "#     print(\"610\", \" finished \", i)\n",
    "#     s += 1000\n",
    "    \n",
    "# learned_data20 = features.features('670/670')\n",
    "# s = 240000 + 720 * 1000\n",
    "# for i in range(280):\n",
    "#     learned_data20.extract_features(670, s, s+1000, file_name)\n",
    "#     print(\"670\", \" finished \", i)\n",
    "#     s += 1000\n",
    "    \n",
    "# learned_data1 = features.features('101/101')\n",
    "# s = 240000 + 720 * 1000\n",
    "# for i in range(280):\n",
    "#     learned_data1.extract_features(101, s, s+1000, file_name)\n",
    "#     print(\"101\", \" finished \", i)\n",
    "#     s += 1000\n",
    "    \n",
    "# learned_data2 = features.features('102/102')\n",
    "# s = 240000 + 720 * 1000\n",
    "# for i in range(280):\n",
    "#     learned_data2.extract_features(102, s, s+1000, file_name)\n",
    "#     print(\"102\", \" finished \", i)\n",
    "#     s += 1000\n",
    "    \n",
    "# learned_data3 = features.features('153/153')\n",
    "# s = 240000 + 720 * 1000 + 38*1000\n",
    "# for i in range(242):\n",
    "#     learned_data3.extract_features(153, s, s+1000, file_name)\n",
    "#     print(\"153\", \" finished \", i)\n",
    "#     s += 500\n",
    "\n",
    "    \n",
    "# learned_data19 = features.features('610/610')\n",
    "# s = 0\n",
    "# for i in range(720):\n",
    "#     try:\n",
    "#         learned_data19.extract_features(610, s, s+1000, file_name)\n",
    "#         print(\"610\", \" finished \", i)\n",
    "#     except:\n",
    "#         print(i)\n",
    "#     s += 1000\n",
    "\n",
    "# learned_data11 = features.features('440/440')\n",
    "# s = 0\n",
    "# for i in range(1000):\n",
    "#     try:\n",
    "#         learned_data11.extract_features(440, s, s+1000, file_name)\n",
    "#         print(\"440\", \" finished \", i)\n",
    "#     except:\n",
    "#         print(i)\n",
    "#     s += 1000\n",
    "    \n",
    "learned_data4 = features.features('208/208')\n",
    "s = 240000 + 404000\n",
    "for i in range(596):\n",
    "    learned_data4.extract_features(208, s, s+1000, file_name)\n",
    "    print(\"208\", \" finished \", i)\n",
    "    s += 500"
   ]
  },
  {
   "cell_type": "code",
   "execution_count": null,
   "metadata": {},
   "outputs": [],
   "source": [
    "learned_data9 = features.features('563/563')\n",
    "learned_data10 = features.features('556_1/556_1')\n",
    "s = 0\n",
    "for i in range(1000):\n",
    "    learned_data9.extract_features(563, s, s+1000, file_name)\n",
    "    print(\"563\", \" finished \", i)\n",
    "    s += 500\n",
    "s = 0\n",
    "for i in range(1000):\n",
    "    learned_data10.extract_features(5561, s, s+1000, file_name)\n",
    "    print(\"556_1\", \" finished \", i)\n",
    "    s += 500"
   ]
  },
  {
   "cell_type": "code",
   "execution_count": null,
   "metadata": {},
   "outputs": [],
   "source": [
    "learned_data11 = features.features('495/495')\n",
    "\n",
    "s = 0\n",
    "for i in range(1000):\n",
    "    learned_data11.extract_features(495, s, s+1000, file_name)\n",
    "    print(\"495\", \" finished \", i)\n",
    "    s += 500"
   ]
  },
  {
   "cell_type": "code",
   "execution_count": null,
   "metadata": {},
   "outputs": [],
   "source": [
    "learned_data12 = features.features('488/488')\n",
    "s = 0\n",
    "for i in range(1000):\n",
    "    learned_data12.extract_features(488, s, s+1000, file_name)\n",
    "    print(\"488\", \" finished \", i)\n",
    "    s += 500"
   ]
  },
  {
   "cell_type": "code",
   "execution_count": null,
   "metadata": {},
   "outputs": [],
   "source": [
    "learned_data13 = features.features('457/457')\n",
    "s = 259500\n",
    "for i in range(482):\n",
    "    learned_data13.extract_features(457, s, s+1000, file_name)\n",
    "    print(\"457\", \" finished \", i)\n",
    "    s += 500"
   ]
  },
  {
   "cell_type": "code",
   "execution_count": null,
   "metadata": {},
   "outputs": [],
   "source": [
    "learned_data14 = features.features('440/440')\n",
    "s = 306500\n",
    "for i in range(389):\n",
    "    learned_data14.extract_features(440, s, s+1000, file_name)\n",
    "    print(\"440\", \" finished \", i)\n",
    "    s += 500"
   ]
  },
  {
   "cell_type": "code",
   "execution_count": null,
   "metadata": {},
   "outputs": [],
   "source": [
    "learned_data15 = features.features('424/424')\n",
    "s = 0\n",
    "for i in range(1000):\n",
    "    learned_data15.extract_features(424, s, s+1000, file_name)\n",
    "    print(\"424\", \" finished \", i)\n",
    "    s += 500"
   ]
  },
  {
   "cell_type": "code",
   "execution_count": null,
   "metadata": {},
   "outputs": [],
   "source": [
    "learned_data16 = features.features('399/399')\n",
    "s = 0\n",
    "for i in range(1000):\n",
    "    learned_data16.extract_features(399, s, s+1000, file_name)\n",
    "    print(\"399\", \" finished \", i)\n",
    "    s += 500"
   ]
  },
  {
   "cell_type": "code",
   "execution_count": null,
   "metadata": {},
   "outputs": [],
   "source": [
    "learned_data17 = features.features('340/340')\n",
    "s = 0\n",
    "for i in range(0, 1000):\n",
    "    learned_data17.extract_features(340, s, s+1000, file_name)\n",
    "    print(\"340\", \" finished \", i)\n",
    "    s += 500"
   ]
  },
  {
   "cell_type": "code",
   "execution_count": null,
   "metadata": {},
   "outputs": [],
   "source": [
    "learned_data18 = features.features('245/245')\n",
    "s = 0\n",
    "for i in range(0, 1000):\n",
    "    learned_data18.extract_features(245, s, s+1000, file_name)\n",
    "    print(\"245\", \" finished \", i)\n",
    "    s += 500\n",
    "learned_data19 = features.features('244/244')\n",
    "\n",
    "s = 0\n",
    "for i in range(0, 1000):\n",
    "    learned_data19.extract_features(244, s, s+1000, file_name)\n",
    "    print(\"244\", \" finished \", i)\n",
    "    s += 500\n",
    "    \n",
    "s = 0\n",
    "for i in range(0, 1000):\n",
    "    learned_data19.extract_features(244, s, s+1000, file_name)\n",
    "    print(\"244\", \" finished \", i)\n",
    "    s += 500"
   ]
  },
  {
   "cell_type": "code",
   "execution_count": null,
   "metadata": {},
   "outputs": [],
   "source": [
    "learned_data20 = features.features('510/510')\n",
    "s = 31000\n",
    "for i in range(62, 1000):\n",
    "    learned_data20.extract_features(510, s, s+1000, file_name)\n",
    "    print(\"510\", \" finished \", i)\n",
    "    s += 500"
   ]
  },
  {
   "cell_type": "code",
   "execution_count": null,
   "metadata": {},
   "outputs": [],
   "source": [
    "s = 0\n",
    "for i in range(100):\n",
    "    learned_data1.extract_features(1, s, s+1000, 'features(without ica)')\n",
    "    print(\"finished \", i)\n",
    "    s += 500"
   ]
  },
  {
   "cell_type": "code",
   "execution_count": null,
   "metadata": {},
   "outputs": [],
   "source": [
    "s = 50500\n",
    "for i in range(400):\n",
    "    learned_data1.extract_features(1, s, s+1000, 'correct_features(without ica)')\n",
    "    print(\"finished \", i)\n",
    "    s += 500"
   ]
  },
  {
   "cell_type": "code",
   "execution_count": null,
   "metadata": {},
   "outputs": [],
   "source": [
    "s = 250500\n",
    "for i in range(1000):\n",
    "    learned_data1.extract_features(1, s, s+1000, 'correct_features(without ica)')\n",
    "    print(\"finished \", i)\n",
    "    s += 500"
   ]
  },
  {
   "cell_type": "code",
   "execution_count": null,
   "metadata": {},
   "outputs": [],
   "source": [
    "learned_data2 = features.features('102/102')"
   ]
  },
  {
   "cell_type": "code",
   "execution_count": null,
   "metadata": {},
   "outputs": [],
   "source": [
    "s = 0\n",
    "for i in range(500):\n",
    "    learned_data2.extract_features(1, s, s+1000, 'correct_features(without ica)')\n",
    "    print(\"finished \", i)\n",
    "    s += 500"
   ]
  },
  {
   "cell_type": "code",
   "execution_count": null,
   "metadata": {},
   "outputs": [],
   "source": [
    "s = 250500\n",
    "for i in range(500):\n",
    "    learned_data2.extract_features(1, s, s+1000, 'correct_features(without ica)')\n",
    "    print(\"finished \", i)\n",
    "    s += 500"
   ]
  },
  {
   "cell_type": "code",
   "execution_count": null,
   "metadata": {},
   "outputs": [],
   "source": [
    "s = 500500\n",
    "for i in range(500):\n",
    "    learned_data2.extract_features(1, s, s+1000, 'correct_features(without ica)')\n",
    "    print(\"finished \", i)\n",
    "    s += 500"
   ]
  },
  {
   "cell_type": "code",
   "execution_count": null,
   "metadata": {},
   "outputs": [],
   "source": [
    "learned_data1 = features.features('744/744')\n",
    "\n",
    "s = 0\n",
    "for i in range(500):\n",
    "    learned_data2.extract_features(744, s, s+1000, 'correct_features(without ica)')\n",
    "    print(\"finished \", i)\n",
    "    s += 500"
   ]
  },
  {
   "cell_type": "code",
   "execution_count": null,
   "metadata": {},
   "outputs": [],
   "source": [
    "s = 250500\n",
    "for i in range(1000):\n",
    "    learned_data2.extract_features(744, s, s+1000, 'correct_features(without ica)')\n",
    "    print(\"finished \", i)\n",
    "    s += 500"
   ]
  },
  {
   "cell_type": "code",
   "execution_count": null,
   "metadata": {},
   "outputs": [],
   "source": [
    "learned_data1 = features.features('670/670')\n",
    "\n",
    "s = 0\n",
    "for i in range(1500):\n",
    "    learned_data2.extract_features(670, s, s+1000, 'correct_features(without ica)')\n",
    "    print(\"finished \", i)\n",
    "    s += 500"
   ]
  },
  {
   "cell_type": "code",
   "execution_count": null,
   "metadata": {},
   "outputs": [],
   "source": [
    "learned_data1 = features.features('610/610')\n",
    "\n",
    "s = 0\n",
    "for i in range(500):\n",
    "    learned_data2.extract_features(610, s, s+1000, 'correct_features(without ica)')\n",
    "    print(\"finished \", i)\n",
    "    s += 500"
   ]
  },
  {
   "cell_type": "code",
   "execution_count": null,
   "metadata": {},
   "outputs": [],
   "source": [
    "learned_data1 = features.features('101/101')\n",
    "print(\"finished1\")\n",
    "\n",
    "learned_data2 = features.features('102/102')\n",
    "print(\"finished2\")"
   ]
  },
  {
   "cell_type": "code",
   "execution_count": null,
   "metadata": {},
   "outputs": [],
   "source": [
    "print(learned_data2.raw_eeg.shape)"
   ]
  },
  {
   "cell_type": "code",
   "execution_count": null,
   "metadata": {},
   "outputs": [],
   "source": [
    "s = 300500\n",
    "for i in range(100):\n",
    "    learned_data1.extract_features(1, s, s+1000)\n",
    "    s += 500"
   ]
  },
  {
   "cell_type": "code",
   "execution_count": null,
   "metadata": {},
   "outputs": [],
   "source": [
    "s = 350500\n",
    "for i in range(800):\n",
    "    learned_data1.extract_features(1, s, s+1000)\n",
    "    s += 500"
   ]
  },
  {
   "cell_type": "code",
   "execution_count": null,
   "metadata": {},
   "outputs": [],
   "source": [
    "learned_data2 = features.features('102/102')\n",
    "print(\"finished2\")"
   ]
  },
  {
   "cell_type": "code",
   "execution_count": null,
   "metadata": {},
   "outputs": [],
   "source": [
    "learned_data3 = features.features('153/153')\n",
    "print(\"finished3\")"
   ]
  },
  {
   "cell_type": "code",
   "execution_count": null,
   "metadata": {},
   "outputs": [],
   "source": [
    "s = 150500\n",
    "for i in range(1200):\n",
    "    learned_data3.extract_features(3, s, s+1000)\n",
    "    s += 500"
   ]
  },
  {
   "cell_type": "code",
   "execution_count": null,
   "metadata": {},
   "outputs": [],
   "source": [
    "learned_data4 = features.features('208/208')\n",
    "print(\"finished4\")"
   ]
  },
  {
   "cell_type": "code",
   "execution_count": null,
   "metadata": {},
   "outputs": [],
   "source": [
    "s = 500500\n",
    "for i in range(500):\n",
    "    learned_data4.extract_features(4, s, s+1000)\n",
    "    s += 500"
   ]
  },
  {
   "cell_type": "code",
   "execution_count": null,
   "metadata": {},
   "outputs": [],
   "source": [
    "learned_data5 = features.features('244/244')\n",
    "print(\"finished5\")"
   ]
  },
  {
   "cell_type": "code",
   "execution_count": null,
   "metadata": {},
   "outputs": [],
   "source": [
    "learned_data6 = features.features('245/245')\n",
    "print(\"finished6\")\n",
    "\n",
    "learned_data7 = features.features('340/340')\n",
    "print(\"finished7\")\n",
    "\n",
    "learned_data8 = features.features('399/399')\n",
    "print(\"finished8\")\n",
    "\n",
    "learned_data9 = features.features('424/424')\n",
    "print(\"finished9\")\n",
    "\n",
    "learned_data10 = features.features('440/440')\n",
    "print(\"finished10\")\n",
    "\n",
    "learned_data11 = features.features('457/457')\n",
    "print(\"finished11\")\n",
    "\n",
    "learned_data12 = features.features('488/488')\n",
    "print(\"finished12\")\n",
    "\n",
    "learned_data13 = features.features('495/495')\n",
    "print(\"finished13\")\n",
    "\n",
    "learned_data14 = features.features('510/510')\n",
    "print(\"finished14\")\n",
    "\n",
    "learned_data15 = features.features('556_1/556_1')\n",
    "print(\"finished15\")"
   ]
  }
 ],
 "metadata": {
  "kernelspec": {
   "display_name": "Python 3",
   "language": "python",
   "name": "python3"
  },
  "language_info": {
   "codemirror_mode": {
    "name": "ipython",
    "version": 3
   },
   "file_extension": ".py",
   "mimetype": "text/x-python",
   "name": "python",
   "nbconvert_exporter": "python",
   "pygments_lexer": "ipython3",
   "version": "3.8.3"
  }
 },
 "nbformat": 4,
 "nbformat_minor": 4
}
