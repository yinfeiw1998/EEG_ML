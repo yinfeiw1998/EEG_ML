# draft.py
#import pyedflib
import mne


raw = mne.io.read_raw_edf("../Human_data/101/101.edf", preload=True)
print(raw)


